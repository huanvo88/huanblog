{
 "cells": [
  {
   "cell_type": "markdown",
   "metadata": {},
   "source": [
    "# Predicting Car Price"
   ]
  },
  {
   "cell_type": "markdown",
   "metadata": {},
   "source": [
    "## Introduction"
   ]
  },
  {
   "cell_type": "markdown",
   "metadata": {},
   "source": [
    "In this notebook we aim to go through a toy example of an end-to-end data science project starting from collecting the data to model deployment. We follow the jupyter notebook [Car Price](https://github.com/PaacMaan/cars-price-predictor/blob/master/cars_price_predictor.ipynb) and the codes are taken from [Github codes](https://github.com/PaacMaan/cars-price-predictor/tree/master/flask_APP). We will build a regression model that can predict car prices based on multiple features such as mileage, mark, model, model_year, fuel_type and the city. We scrape data from the ad website [Avito](https://www.avito.ma/). The notebook will be presented as follows.\n",
    "\n",
    "* Data collection\n",
    "* Data preprocessing and cleaning\n",
    "* Exploratory data analysis and visualization\n",
    "* Data modeling\n",
    "* Model deployment\n",
    "\n",
    "All the codes are available on [Github](https://github.com/huanvo88/Projects/tree/master/car_price)."
   ]
  },
  {
   "cell_type": "markdown",
   "metadata": {},
   "source": [
    "## Data collection"
   ]
  },
  {
   "cell_type": "code",
   "execution_count": 1,
   "metadata": {},
   "outputs": [],
   "source": [
    "#data collection and preprocessing\n",
    "from bs4 import BeautifulSoup\n",
    "import requests\n",
    "import pandas as pd\n",
    "import numpy as np\n",
    "\n",
    "#data visualization\n",
    "import matplotlib.pyplot as plt\n",
    "import seaborn as sns \n",
    "%matplotlib inline \n",
    "plt.style.use('fivethirtyeight')"
   ]
  },
  {
   "cell_type": "code",
   "execution_count": 13,
   "metadata": {},
   "outputs": [],
   "source": [
    "def get_ads_urls():\n",
    "    urls_list = []\n",
    "    #define the basic url\n",
    "    basic_url = \"https://www.avito.ma/fr/maroc/voitures-à_vendre?mpr=500000000&o=\"\n",
    "    #loop over the pages \n",
    "    for i in range(1,250):\n",
    "        #get the page url\n",
    "        url = basic_url + str(i)\n",
    "        #get the request response\n",
    "        r = requests.get(url)\n",
    "        data = r.text\n",
    "        #transform it to a BeautifulSoup object\n",
    "        soup = BeautifulSoup(data, \"lxml\")\n",
    "        #get the links for the cars in a page\n",
    "        for div in soup.findAll('div',{'class':'item-img'}):\n",
    "            a = div.findAll('a')[0] \n",
    "            urls_list.append(a.get('href'))\n",
    "    \n",
    "    #write the link to a dataframe\n",
    "    df = pd.DataFrame(data = {\"url\":urls_list})\n",
    "    df.to_csv('ads_urls.csv', sep = ',', index = False)"
   ]
  },
  {
   "cell_type": "code",
   "execution_count": 14,
   "metadata": {},
   "outputs": [],
   "source": [
    "#put all the urls in a file \n",
    "get_ads_urls()"
   ]
  },
  {
   "cell_type": "code",
   "execution_count": 68,
   "metadata": {},
   "outputs": [],
   "source": [
    "def scrape_ad_data(ad_url):\n",
    "    \"\"\"Extract the information from each ad_url\n",
    "    \"\"\"\n",
    "    r = requests.get(ad_url)\n",
    "    data = r.text\n",
    "    soup = BeautifulSoup(data, 'html.parser')\n",
    "    feature = soup.findAll('h2',{'class':[\"font-normal\" ,\"fs12\" ,\"no-margin\" ,\"ln22\"]})\n",
    "    #create a list to hold the features\n",
    "    results = []\n",
    "    for a in feature:\n",
    "        results.append(''.join(a.findAll(text = True)).replace('\\n',''))\n",
    "    return results    "
   ]
  },
  {
   "cell_type": "code",
   "execution_count": 44,
   "metadata": {},
   "outputs": [],
   "source": [
    "import csv\n",
    "def write_data_to_csv(data):\n",
    "    with open(\"output.csv\",\"w\") as f:\n",
    "        writer = csv.writer(f)\n",
    "        writer.writerows(data)"
   ]
  },
  {
   "cell_type": "code",
   "execution_count": 69,
   "metadata": {},
   "outputs": [],
   "source": [
    "#read in the url file \n",
    "url_data = pd.read_csv('ads_urls.csv', encoding = 'latin-1')\n",
    "data = []\n",
    "for i in range(len(url_data)):\n",
    "    data.append(scrape_ad_data(url_data['url'][i]))"
   ]
  },
  {
   "cell_type": "code",
   "execution_count": 70,
   "metadata": {},
   "outputs": [],
   "source": [
    "#write the results to file\n",
    "write_data_to_csv(data)"
   ]
  },
  {
   "cell_type": "markdown",
   "metadata": {},
   "source": [
    "## Data Preprocessing and Cleaning"
   ]
  },
  {
   "cell_type": "code",
   "execution_count": 162,
   "metadata": {},
   "outputs": [
    {
     "data": {
      "text/html": [
       "<div>\n",
       "<style>\n",
       "    .dataframe thead tr:only-child th {\n",
       "        text-align: right;\n",
       "    }\n",
       "\n",
       "    .dataframe thead th {\n",
       "        text-align: left;\n",
       "    }\n",
       "\n",
       "    .dataframe tbody tr th {\n",
       "        vertical-align: top;\n",
       "    }\n",
       "</style>\n",
       "<table border=\"1\" class=\"dataframe\">\n",
       "  <thead>\n",
       "    <tr style=\"text-align: right;\">\n",
       "      <th></th>\n",
       "      <th>price</th>\n",
       "      <th>year_model</th>\n",
       "      <th>mileage</th>\n",
       "      <th>fuel_type</th>\n",
       "      <th>mark</th>\n",
       "      <th>model</th>\n",
       "      <th>fiscal_power</th>\n",
       "      <th>sector</th>\n",
       "      <th>type</th>\n",
       "      <th>city</th>\n",
       "    </tr>\n",
       "  </thead>\n",
       "  <tbody>\n",
       "    <tr>\n",
       "      <th>0</th>\n",
       "      <td>50 000 DH</td>\n",
       "      <td>Année-Modèle:2007</td>\n",
       "      <td>Kilométrage:100 000 - 109 999</td>\n",
       "      <td>Type de carburant:Diesel</td>\n",
       "      <td>Marque:Volkswagen</td>\n",
       "      <td>Modèle:GOLF 2</td>\n",
       "      <td>Puissance fiscale:6 CV</td>\n",
       "      <td>-</td>\n",
       "      <td>Type:Voitures, Offre</td>\n",
       "      <td>Oujda</td>\n",
       "    </tr>\n",
       "    <tr>\n",
       "      <th>1</th>\n",
       "      <td>100 000 DH</td>\n",
       "      <td>Année-Modèle:2008</td>\n",
       "      <td>Kilométrage:250 000 - 299 999</td>\n",
       "      <td>Type de carburant:Diesel</td>\n",
       "      <td>Marque:Honda</td>\n",
       "      <td>Modèle:CR-V</td>\n",
       "      <td>Puissance fiscale:8 CV</td>\n",
       "      <td>-</td>\n",
       "      <td>Type:Voitures, Offre</td>\n",
       "      <td>Fès</td>\n",
       "    </tr>\n",
       "    <tr>\n",
       "      <th>2</th>\n",
       "      <td>59 000 DH</td>\n",
       "      <td>Année-Modèle:2007</td>\n",
       "      <td>Kilométrage:250 000 - 299 999</td>\n",
       "      <td>Type de carburant:Diesel</td>\n",
       "      <td>Marque:Ssangyong</td>\n",
       "      <td>Modèle:Rexton</td>\n",
       "      <td>Puissance fiscale:-</td>\n",
       "      <td>-</td>\n",
       "      <td>Type:Voitures, Offre</td>\n",
       "      <td>Marrakech</td>\n",
       "    </tr>\n",
       "    <tr>\n",
       "      <th>3</th>\n",
       "      <td>47 000 DH</td>\n",
       "      <td>Année-Modèle:2005</td>\n",
       "      <td>Kilométrage:200 000 - 249 999</td>\n",
       "      <td>Type de carburant:Diesel</td>\n",
       "      <td>Marque:Citroen</td>\n",
       "      <td>Modèle:Berlingo</td>\n",
       "      <td>Puissance fiscale:-</td>\n",
       "      <td>-</td>\n",
       "      <td>Type:Voitures, Offre</td>\n",
       "      <td>Casablanca</td>\n",
       "    </tr>\n",
       "    <tr>\n",
       "      <th>4</th>\n",
       "      <td>57 000 DH</td>\n",
       "      <td>Année-Modèle:2001</td>\n",
       "      <td>Kilométrage:25 000 - 29 999</td>\n",
       "      <td>Type de carburant:Diesel</td>\n",
       "      <td>Marque:Citroen</td>\n",
       "      <td>Modèle:C5</td>\n",
       "      <td>Puissance fiscale:6 CV</td>\n",
       "      <td>-</td>\n",
       "      <td>Type:Voitures, Offre</td>\n",
       "      <td>Tétouan</td>\n",
       "    </tr>\n",
       "  </tbody>\n",
       "</table>\n",
       "</div>"
      ],
      "text/plain": [
       "        price         year_model                        mileage  \\\n",
       "0  50 000 DH   Année-Modèle:2007  Kilométrage:100 000 - 109 999   \n",
       "1  100 000 DH  Année-Modèle:2008  Kilométrage:250 000 - 299 999   \n",
       "2  59 000 DH   Année-Modèle:2007  Kilométrage:250 000 - 299 999   \n",
       "3  47 000 DH   Année-Modèle:2005  Kilométrage:200 000 - 249 999   \n",
       "4  57 000 DH   Année-Modèle:2001  Kilométrage:25 000 - 29 999     \n",
       "\n",
       "                  fuel_type               mark            model  \\\n",
       "0  Type de carburant:Diesel  Marque:Volkswagen  Modèle:GOLF 2     \n",
       "1  Type de carburant:Diesel  Marque:Honda       Modèle:CR-V       \n",
       "2  Type de carburant:Diesel  Marque:Ssangyong   Modèle:Rexton     \n",
       "3  Type de carburant:Diesel  Marque:Citroen     Modèle:Berlingo   \n",
       "4  Type de carburant:Diesel  Marque:Citroen     Modèle:C5         \n",
       "\n",
       "             fiscal_power sector                  type         city  \n",
       "0  Puissance fiscale:6 CV  -      Type:Voitures, Offre   Oujda       \n",
       "1  Puissance fiscale:8 CV  -      Type:Voitures, Offre   Fès         \n",
       "2  Puissance fiscale:-     -      Type:Voitures, Offre   Marrakech   \n",
       "3  Puissance fiscale:-     -      Type:Voitures, Offre   Casablanca  \n",
       "4  Puissance fiscale:6 CV  -      Type:Voitures, Offre   Tétouan     "
      ]
     },
     "execution_count": 162,
     "metadata": {},
     "output_type": "execute_result"
    }
   ],
   "source": [
    "#set the column names\n",
    "colnames = ['price', 'year_model','mileage','fuel_type','mark','model','fiscal_power','sector','type','city']\n",
    "#read in the csv file\n",
    "df = pd.read_csv('output.csv', sep = \",\", names = colnames, header = None, encoding = 'latin-1')\n",
    "#display the first few rows\n",
    "df.head()"
   ]
  },
  {
   "cell_type": "markdown",
   "metadata": {},
   "source": [
    "### The 'price' column"
   ]
  },
  {
   "cell_type": "code",
   "execution_count": 163,
   "metadata": {},
   "outputs": [
    {
     "data": {
      "text/plain": [
       "0    50000 \n",
       "1    100000\n",
       "2    59000 \n",
       "3    47000 \n",
       "4    57000 \n",
       "Name: price, dtype: int64"
      ]
     },
     "execution_count": 163,
     "metadata": {},
     "output_type": "execute_result"
    }
   ],
   "source": [
    "#remove the rows that don't contain price\n",
    "df = df[df['price'].str.contains('DH') == True]\n",
    "#remove the string 'DH' from the price\n",
    "df['price'] = df['price'].apply(lambda x:x.strip('DH'))\n",
    "#remove the space \n",
    "df['price'] = df['price'].apply(lambda x:x.replace(\" \",\"\"))\n",
    "#convert to numeric type\n",
    "df['price'] = pd.to_numeric(df['price'],errors = \"coerce\")\n",
    "#check the head\n",
    "df['price'].head()"
   ]
  },
  {
   "cell_type": "code",
   "execution_count": 164,
   "metadata": {},
   "outputs": [],
   "source": [
    "#convert to USD\n",
    "df['price'] = df['price']*0.27"
   ]
  },
  {
   "cell_type": "markdown",
   "metadata": {},
   "source": [
    "### The 'year model' column"
   ]
  },
  {
   "cell_type": "code",
   "execution_count": 165,
   "metadata": {},
   "outputs": [
    {
     "data": {
      "text/plain": [
       "Année-Modèle:2013                   485\n",
       "Année-Modèle:2014                   464\n",
       "Année-Modèle:2008                   459\n",
       "Année-Modèle:2012                   444\n",
       "Année-Modèle:2011                   426\n",
       "Année-Modèle:2007                   419\n",
       "Année-Modèle:2010                   412\n",
       "Année-Modèle:2009                   403\n",
       "Année-Modèle:2015                   386\n",
       "Année-Modèle:2006                   331\n",
       "Année-Modèle:2016                   279\n",
       "Année-Modèle:2005                   266\n",
       "Année-Modèle:2003                   248\n",
       "Année-Modèle:2002                   231\n",
       "Année-Modèle:2000                   192\n",
       "Année-Modèle:2004                   191\n",
       "Année-Modèle:2001                   189\n",
       "Année-Modèle:1999                   172\n",
       "Année-Modèle:2017                   172\n",
       "Année-Modèle:1998                   124\n",
       "Année-Modèle:1997                   122\n",
       "Année-Modèle:1996                   115\n",
       "Année-Modèle:2018                   103\n",
       "Année-Modèle:1994                   94 \n",
       "Année-Modèle:-                      92 \n",
       "Année-Modèle:1992                   90 \n",
       "Année-Modèle:1995                   86 \n",
       "Année-Modèle:1993                   76 \n",
       "Année-Modèle:1991                   76 \n",
       "Année-Modèle:1987                   73 \n",
       "Année-Modèle:1990                   66 \n",
       "Année-Modèle:1986                   66 \n",
       "Année-Modèle:1988                   60 \n",
       "Année-Modèle:1989                   59 \n",
       "Année-Modèle:1985                   51 \n",
       "Année-Modèle:1984                   39 \n",
       "Année-Modèle:1980 ou plus ancien    23 \n",
       "Année-Modèle:1983                   20 \n",
       "Année-Modèle:1982                   17 \n",
       "Année-Modèle:1981                   16 \n",
       "Secteur:bournazil                   1  \n",
       "Name: year_model, dtype: int64"
      ]
     },
     "execution_count": 165,
     "metadata": {},
     "output_type": "execute_result"
    }
   ],
   "source": [
    "df['year_model'].value_counts()"
   ]
  },
  {
   "cell_type": "code",
   "execution_count": 166,
   "metadata": {},
   "outputs": [
    {
     "data": {
      "text/plain": [
       "2013.0    485\n",
       "2014.0    464\n",
       "2008.0    459\n",
       "2012.0    444\n",
       "2011.0    426\n",
       "2007.0    419\n",
       "2010.0    412\n",
       "2009.0    403\n",
       "2015.0    386\n",
       "2006.0    331\n",
       "2016.0    279\n",
       "2005.0    266\n",
       "2003.0    248\n",
       "2002.0    231\n",
       "2000.0    192\n",
       "2004.0    191\n",
       "2001.0    189\n",
       "1999.0    172\n",
       "2017.0    172\n",
       "1998.0    124\n",
       "1997.0    122\n",
       "1996.0    115\n",
       "2018.0    103\n",
       "1994.0    94 \n",
       "1992.0    90 \n",
       "1995.0    86 \n",
       "1991.0    76 \n",
       "1993.0    76 \n",
       "1987.0    73 \n",
       "1986.0    66 \n",
       "1990.0    66 \n",
       "1988.0    60 \n",
       "1989.0    59 \n",
       "1985.0    51 \n",
       "1984.0    39 \n",
       "1980.0    23 \n",
       "1983.0    20 \n",
       "1982.0    17 \n",
       "1981.0    16 \n",
       "Name: year_model, dtype: int64"
      ]
     },
     "execution_count": 166,
     "metadata": {},
     "output_type": "execute_result"
    }
   ],
   "source": [
    "#remove the rows that don't contain Modele\n",
    "df = df[df['year_model'].str.contains(\"Année-Modèle\") == True]\n",
    "#remove the Annee-Modele\n",
    "df['year_model'] = df['year_model'].apply(lambda x:x.strip(\"Année-Modèle:\"))\n",
    "#remove the ou plus ancien\n",
    "df['year_model'] = df['year_model'].apply(lambda x:x.strip(\" ou plus ancien\"))\n",
    "#remove the row that contains -\n",
    "df = df[df['year_model'] != '-']\n",
    "#convert to integer\n",
    "df['year_model'] = pd.to_numeric(df['year_model'], errors = 'coerce')\n",
    "#check the values again\n",
    "df['year_model'].value_counts()"
   ]
  },
  {
   "cell_type": "markdown",
   "metadata": {},
   "source": [
    "### The 'mileage' column"
   ]
  },
  {
   "cell_type": "code",
   "execution_count": 167,
   "metadata": {},
   "outputs": [
    {
     "data": {
      "text/plain": [
       "Kilométrage:200 000 - 249 999     711\n",
       "Kilométrage:100 000 - 109 999     398\n",
       "Kilométrage:250 000 - 299 999     332\n",
       "Kilométrage:140 000 - 149 999     326\n",
       "Kilométrage:120 000 - 129 999     321\n",
       "Kilométrage:190 000 - 199 999     321\n",
       "Kilométrage:0 - 4 999             316\n",
       "Kilométrage:150 000 - 159 999     308\n",
       "Kilométrage:180 000 - 189 999     291\n",
       "Kilométrage:160 000 - 169 999     275\n",
       "Kilométrage:130 000 - 139 999     274\n",
       "Kilométrage:110 000 - 119 999     268\n",
       "Kilométrage:170 000 - 179 999     255\n",
       "Kilométrage:20 000 - 24 999       220\n",
       "Kilométrage:15 000 - 19 999       209\n",
       "Kilométrage:25 000 - 29 999       203\n",
       "Kilométrage:5 000 - 9 999         193\n",
       "Kilométrage:30 000 - 34 999       191\n",
       "Kilométrage:95 000 - 99 999       171\n",
       "Kilométrage:90 000 - 94 999       169\n",
       "Kilométrage:10 000 - 14 999       167\n",
       "Kilométrage:80 000 - 84 999       162\n",
       "Kilométrage:70 000 - 74 999       156\n",
       "Kilométrage:85 000 - 89 999       142\n",
       "Kilométrage:300 000 - 349 999     137\n",
       "Kilométrage:35 000 - 39 999       125\n",
       "Kilométrage:75 000 - 79 999       112\n",
       "Kilométrage:60 000 - 64 999       109\n",
       "Kilométrage:65 000 - 69 999       108\n",
       "Kilométrage:50 000 - 54 999       105\n",
       "Kilométrage:40 000 - 44 999       103\n",
       "Kilométrage:45 000 - 49 999       102\n",
       "Kilométrage:-                     92 \n",
       "Kilométrage:55 000 - 59 999       91 \n",
       "Kilométrage:350 000 - 399 999     63 \n",
       "Kilométrage:400 000 - 449 999     50 \n",
       "Kilométrage:450 000 - 499 999     32 \n",
       "Kilométrage:Plus de 500 000       22 \n",
       "Kilométrage: 95 000 - 99 999      1  \n",
       "Kilométrage: 30 000 - 34 999      1  \n",
       "Kilométrage: 170 000 - 179 999    1  \n",
       "Kilométrage: 350 000 - 399 999    1  \n",
       "Kilométrage: 150 000 - 159 999    1  \n",
       "Kilométrage: 250 000 - 299 999    1  \n",
       "Kilométrage: 180 000 - 189 999    1  \n",
       "Name: mileage, dtype: int64"
      ]
     },
     "execution_count": 167,
     "metadata": {},
     "output_type": "execute_result"
    }
   ],
   "source": [
    "df['mileage'].value_counts()"
   ]
  },
  {
   "cell_type": "code",
   "execution_count": 168,
   "metadata": {},
   "outputs": [
    {
     "data": {
      "text/plain": [
       "224999.5    711\n",
       "104999.5    398\n",
       "274999.5    333\n",
       "144999.5    326\n",
       "194999.5    321\n",
       "124999.5    321\n",
       "2499.5      316\n",
       "154999.5    309\n",
       "184999.5    292\n",
       "164999.5    275\n",
       "134999.5    274\n",
       "114999.5    268\n",
       "174999.5    256\n",
       "22499.5     220\n",
       "17499.5     209\n",
       "27499.5     203\n",
       "7499.5      193\n",
       "32499.5     192\n",
       "97499.5     172\n",
       "92499.5     169\n",
       "12499.5     167\n",
       "82499.5     162\n",
       "72499.5     156\n",
       "87499.5     142\n",
       "324999.5    137\n",
       "37499.5     125\n",
       "77499.5     112\n",
       "62499.5     109\n",
       "67499.5     108\n",
       "52499.5     105\n",
       "42499.5     103\n",
       "47499.5     102\n",
       "57499.5     91 \n",
       "374999.5    64 \n",
       "424999.5    50 \n",
       "474999.5    32 \n",
       "500000.0    22 \n",
       "Name: mileage, dtype: int64"
      ]
     },
     "execution_count": 168,
     "metadata": {},
     "output_type": "execute_result"
    }
   ],
   "source": [
    "#remove those rows that do not contain Kilometrage\n",
    "df = df[df['mileage'].str.contains('Kilométrage')==True]\n",
    "#remove Kilometrage\n",
    "df['mileage'] = df['mileage'].apply(lambda x:x.strip('Kilométrage:'))\n",
    "#remove the row with '-'\n",
    "df = df[df['mileage'] != '-']\n",
    "#replace 'Plus de 500 000' with '500000-500000'\n",
    "df['mileage'] = df['mileage'].apply(lambda x:x.replace('Plus de 500 000',\"500000-500000\"))\n",
    "#split into min and max value \n",
    "df['min'] = df['mileage'].apply(lambda x:x.split('-')[0])\n",
    "df['max'] = df['mileage'].apply(lambda x:x.split('-')[1])\n",
    "#remove empty space\n",
    "df['min'] = df['min'].apply(lambda x:x.replace(\" \",\"\"))\n",
    "df['max'] = df['max'].apply(lambda x:x.replace(\" \",\"\"))\n",
    "#compute the mean \n",
    "df['mileage'] = df.apply(lambda row: (int(row['min'])+int(row['max']))/2, axis = 1)\n",
    "#remove the min and max features\n",
    "df.drop(['min','max'], axis = 1,inplace = True)\n",
    "#count the values\n",
    "df['mileage'].value_counts()"
   ]
  },
  {
   "cell_type": "markdown",
   "metadata": {},
   "source": [
    "### The 'fuel_type' column"
   ]
  },
  {
   "cell_type": "code",
   "execution_count": 169,
   "metadata": {},
   "outputs": [
    {
     "data": {
      "text/plain": [
       "Type de carburant:Diesel        5666\n",
       "Type de carburant:Essence       1872\n",
       "Type de carburant:Electrique    4   \n",
       "Type de carburant:-             3   \n",
       "Name: fuel_type, dtype: int64"
      ]
     },
     "execution_count": 169,
     "metadata": {},
     "output_type": "execute_result"
    }
   ],
   "source": [
    "df['fuel_type'].value_counts()"
   ]
  },
  {
   "cell_type": "code",
   "execution_count": 170,
   "metadata": {},
   "outputs": [
    {
     "data": {
      "text/plain": [
       "Diesel      5666\n",
       "Ess         1872\n",
       "Electriq    4   \n",
       "Name: fuel_type, dtype: int64"
      ]
     },
     "execution_count": 170,
     "metadata": {},
     "output_type": "execute_result"
    }
   ],
   "source": [
    "#remove those rows that don't contain 'Type de carburant'\n",
    "df = df[df['fuel_type'].str.contains(\"Type de carburant\")==True]\n",
    "#remove 'Type de carburant'\n",
    "df['fuel_type'] = df['fuel_type'].apply(lambda x:x.strip(\"Type de carburant:\"))\n",
    "#remove '-'\n",
    "df = df[df['fuel_type'] != '-']\n",
    "#print values\n",
    "df['fuel_type'].value_counts()"
   ]
  },
  {
   "cell_type": "markdown",
   "metadata": {},
   "source": [
    "### The 'mark' column"
   ]
  },
  {
   "cell_type": "code",
   "execution_count": 171,
   "metadata": {},
   "outputs": [
    {
     "data": {
      "text/plain": [
       "Marque:Renault           1155\n",
       "Marque:Peugeot           900 \n",
       "Marque:Volkswagen        891 \n",
       "Marque:Dacia             582 \n",
       "Marque:Mercedes-Benz     570 \n",
       "Marque:Fiat              528 \n",
       "Marque:Citroen           391 \n",
       "Marque:Hyundai           334 \n",
       "Marque:Ford              325 \n",
       "Marque:BMW               229 \n",
       "Marque:Toyota            225 \n",
       "Marque:Honda             181 \n",
       "Marque:Kia               174 \n",
       "Marque:Audi              151 \n",
       "Marque:Opel              102 \n",
       "Marque:Nissan            99  \n",
       "Marque:Seat              79  \n",
       "Marque:Mitsubishi        76  \n",
       "Marque:Suzuki            63  \n",
       "Marque:Land Rover        59  \n",
       "Marque:Chevrolet         52  \n",
       "Marque:Alfa Romeo        45  \n",
       "Marque:Skoda             43  \n",
       "Marque:Ssangyong         33  \n",
       "Marque:Volvo             31  \n",
       "Marque:Jeep              27  \n",
       "Marque:Mazda             22  \n",
       "Marque:Daihatsu          21  \n",
       "Marque:Autres            19  \n",
       "Marque:mini              18  \n",
       "Marque:Chery             18  \n",
       "Marque:Daewoo            11  \n",
       "Marque:Rover             11  \n",
       "Marque:Porsche           10  \n",
       "Marque:Isuzu             8   \n",
       "Marque:Jaguar            8   \n",
       "Marque:Maserati          7   \n",
       "Marque:Dodge             6   \n",
       "Marque:Chrysler          5   \n",
       "Marque:Smart             4   \n",
       "Marque:Zotye             4   \n",
       "Marque:Infiniti          4   \n",
       "Marque:Iveco             3   \n",
       "Marque:BYD               2   \n",
       "Marque:Changhe           2   \n",
       "Marque:Hummer            2   \n",
       "Marque:Lincoln           2   \n",
       "Marque:Acura             2   \n",
       "Marque:Geely             1   \n",
       "Marque:lancia            1   \n",
       "Marque:Pontiac           1   \n",
       "Marque:Lexus             1   \n",
       "Marque:Subaru            1   \n",
       "Marque:Masey Ferguson    1   \n",
       "Marque:Cadillac          1   \n",
       "Marque:Mahindra          1   \n",
       "Name: mark, dtype: int64"
      ]
     },
     "execution_count": 171,
     "metadata": {},
     "output_type": "execute_result"
    }
   ],
   "source": [
    "df['mark'].value_counts()"
   ]
  },
  {
   "cell_type": "code",
   "execution_count": 172,
   "metadata": {},
   "outputs": [
    {
     "data": {
      "text/plain": [
       "Renault         1155\n",
       "Peugeot         900 \n",
       "Volkswagen      891 \n",
       "Daci            582 \n",
       "cedes-Benz      570 \n",
       "Fiat            528 \n",
       "Citroen         391 \n",
       "Hyundai         334 \n",
       "Ford            325 \n",
       "BMW             229 \n",
       "Toyot           225 \n",
       "Hond            181 \n",
       "Ki              174 \n",
       "Audi            151 \n",
       "Opel            102 \n",
       "Nissan          99  \n",
       "Seat            79  \n",
       "itsubishi       76  \n",
       "Suzuki          63  \n",
       "Land Rov        59  \n",
       "Chevrolet       52  \n",
       "Alfa Romeo      45  \n",
       "Skod            43  \n",
       "Ssangyong       33  \n",
       "Volvo           31  \n",
       "Jeep            27  \n",
       "zd              22  \n",
       "Daihats         21  \n",
       "Autres          19  \n",
       "mini            18  \n",
       "Chery           18  \n",
       "Daewoo          11  \n",
       "Rov             11  \n",
       "Porsch          10  \n",
       "Isuz            8   \n",
       "Jag             8   \n",
       "serati          7   \n",
       "Dodg            6   \n",
       "Chrysl          5   \n",
       "Infiniti        4   \n",
       "Zoty            4   \n",
       "Smart           4   \n",
       "Iveco           3   \n",
       "Humm            2   \n",
       "Lincoln         2   \n",
       "Ac              2   \n",
       "BYD             2   \n",
       "Changh          2   \n",
       "sey Ferguson    1   \n",
       "Lexus           1   \n",
       "lanci           1   \n",
       "Pontiac         1   \n",
       "hind            1   \n",
       "Cadillac        1   \n",
       "Geely           1   \n",
       "Sub             1   \n",
       "Name: mark, dtype: int64"
      ]
     },
     "execution_count": 172,
     "metadata": {},
     "output_type": "execute_result"
    }
   ],
   "source": [
    "#remove the rows that don't contain 'Marque'\n",
    "df = df[df['mark'].str.contains('Marque')==True]\n",
    "#remove 'Marque'\n",
    "df['mark'] = df['mark'].apply(lambda x:x.strip('Marque:'))\n",
    "#value counts\n",
    "df['mark'].value_counts()"
   ]
  },
  {
   "cell_type": "markdown",
   "metadata": {},
   "source": [
    "### The 'model' column"
   ]
  },
  {
   "cell_type": "code",
   "execution_count": 173,
   "metadata": {},
   "outputs": [
    {
     "data": {
      "text/plain": [
       "Modèle:Logan            316\n",
       "Modèle:Clio             252\n",
       "Modèle:Kangoo           226\n",
       "Modèle:Megane           159\n",
       "Modèle:Uno              157\n",
       "Modèle:19               149\n",
       "Modèle:GOLF 4           147\n",
       "Modèle:220              136\n",
       "Modèle:Fiesta           123\n",
       "Modèle:Palio            115\n",
       "Modèle:205              112\n",
       "Modèle:Focus            112\n",
       "Modèle:Polo             111\n",
       "Modèle:Berlingo         109\n",
       "Modèle:206              106\n",
       "Modèle:Partner          99 \n",
       "Modèle:Passat           97 \n",
       "Modèle:Sandero          94 \n",
       "Modèle:190              91 \n",
       "Modèle:Classe C         86 \n",
       "Modèle:Accent           83 \n",
       "Modèle:Duster           82 \n",
       "Modèle:Picanto          82 \n",
       "Modèle:Dokker           79 \n",
       "Modèle:Punto            73 \n",
       "Modèle:309              70 \n",
       "Modèle:Corolla          68 \n",
       "Modèle:Accord           66 \n",
       "Modèle:C4               63 \n",
       "Modèle:Serie 3          63 \n",
       "                        .. \n",
       "Modèle:PT Cruiser       1  \n",
       "Modèle:Altima           1  \n",
       "Modèle:SX4              1  \n",
       "Modèle:Vitara           1  \n",
       "Modèle:MDX              1  \n",
       "Modèle:Crossblade       1  \n",
       "Modèle:AMG GT           1  \n",
       "Modèle:440              1  \n",
       "Modèle:SEICENTO         1  \n",
       "Modèle:C4 Aircross      1  \n",
       "Modèle:INTEGRA          1  \n",
       "Modèle:Legacy           1  \n",
       "Modèle:CX-9             1  \n",
       "Modèle:CITAN            1  \n",
       "Modèle:605              1  \n",
       "Modèle:GTR              1  \n",
       "Modèle:GT               1  \n",
       "Modèle:CJ5              1  \n",
       "Modèle:FELICIA          1  \n",
       "Modèle:CARINA           1  \n",
       "Modèle:ORION            1  \n",
       "Modèle:TRANSPORTER      1  \n",
       "Modèle:SPLASH           1  \n",
       "Modèle:K2700            1  \n",
       "Modèle:Viano            1  \n",
       "Modèle:COUNTY           1  \n",
       "Modèle:ACTY             1  \n",
       "Modèle:210              1  \n",
       "Modèle:MEGANE ESTATE    1  \n",
       "Modèle:206 SW           1  \n",
       "Name: model, Length: 474, dtype: int64"
      ]
     },
     "execution_count": 173,
     "metadata": {},
     "output_type": "execute_result"
    }
   ],
   "source": [
    "df['model'].value_counts()"
   ]
  },
  {
   "cell_type": "code",
   "execution_count": 174,
   "metadata": {},
   "outputs": [
    {
     "data": {
      "text/plain": [
       "Logan         316\n",
       "Cli           252\n",
       "Kang          226\n",
       "gan           159\n",
       "Un            157\n",
       "19            149\n",
       "GOLF 4        147\n",
       "220           136\n",
       "Fiesta        123\n",
       "Pali          115\n",
       "205           112\n",
       "Focus         112\n",
       "P             111\n",
       "Berling       109\n",
       "206           106\n",
       "Partner       99 \n",
       "Passat        97 \n",
       "Sander        94 \n",
       "190           91 \n",
       "Classe C      86 \n",
       "Accent        83 \n",
       "Duster        82 \n",
       "Picant        82 \n",
       "Dokker        79 \n",
       "Punt          73 \n",
       "309           70 \n",
       "Corolla       68 \n",
       "Accor         66 \n",
       "C4            63 \n",
       "Serie 3       63 \n",
       "              .. \n",
       "GT            1  \n",
       "F1            1  \n",
       "S5            1  \n",
       "Ypsilon       1  \n",
       "ACTY          1  \n",
       "605           1  \n",
       "Classe GL     1  \n",
       "SPLASH        1  \n",
       "Camar         1  \n",
       "Classe CLK    1  \n",
       "Altima        1  \n",
       "TT            1  \n",
       "Safran        1  \n",
       "INTEGRA       1  \n",
       "CARNIVAL      1  \n",
       "ORION         1  \n",
       "Brav          1  \n",
       "K-GL          1  \n",
       "500X          1  \n",
       "Coup          1  \n",
       "STAVIC        1  \n",
       "NOTE          1  \n",
       "Tourn         1  \n",
       "FAMILY        1  \n",
       "SX4           1  \n",
       "5008          1  \n",
       "XJ            1  \n",
       "TEMPRA        1  \n",
       "8c            1  \n",
       "ALTEA XL      1  \n",
       "Name: model, Length: 471, dtype: int64"
      ]
     },
     "execution_count": 174,
     "metadata": {},
     "output_type": "execute_result"
    }
   ],
   "source": [
    "#remove 'Modele'\n",
    "df['model'] = df['model'].apply(lambda x:x.strip('Modèle:'))\n",
    "#value_count\n",
    "df['model'].value_counts()"
   ]
  },
  {
   "cell_type": "markdown",
   "metadata": {},
   "source": [
    "### The 'fiscal power' column"
   ]
  },
  {
   "cell_type": "code",
   "execution_count": 175,
   "metadata": {},
   "outputs": [
    {
     "data": {
      "text/plain": [
       "Puissance fiscale:-                2964\n",
       "Puissance fiscale:6 CV             1541\n",
       "Puissance fiscale:8 CV             1167\n",
       "Puissance fiscale:7 CV             817 \n",
       "Puissance fiscale:9 CV             322 \n",
       "Puissance fiscale:10 CV            181 \n",
       "Puissance fiscale:5 CV             174 \n",
       "Puissance fiscale:11 CV            156 \n",
       "Puissance fiscale:12 CV            111 \n",
       "Puissance fiscale:4 CV             25  \n",
       "Puissance fiscale:13 CV            17  \n",
       "Puissance fiscale:14 CV            13  \n",
       "Puissance fiscale:17 CV            9   \n",
       "Puissance fiscale:-                7   \n",
       "Puissance fiscale:20 CV            6   \n",
       "Puissance fiscale:18 CV            4   \n",
       "Puissance fiscale:31 CV            4   \n",
       "Puissance fiscale:16 CV            3   \n",
       "Puissance fiscale: -               3   \n",
       "Puissance fiscale:15 CV            3   \n",
       "Puissance fiscale:27 CV            2   \n",
       "Puissance fiscale:26 CV            2   \n",
       "Puissance fiscale:Plus de 48 CV    2   \n",
       "Puissance fiscale:24 CV            2   \n",
       "Puissance fiscale:19 CV            1   \n",
       "Puissance fiscale:35 CV            1   \n",
       "Puissance fiscale:37 CV            1   \n",
       "Puissance fiscale:21 CV            1   \n",
       "Puissance fiscale:29 CV            1   \n",
       "Puissance fiscale:28 CV            1   \n",
       "Puissance fiscale:36 CV            1   \n",
       "Name: fiscal_power, dtype: int64"
      ]
     },
     "execution_count": 175,
     "metadata": {},
     "output_type": "execute_result"
    }
   ],
   "source": [
    "df['fiscal_power'].value_counts()"
   ]
  },
  {
   "cell_type": "markdown",
   "metadata": {},
   "source": [
    "For this feature we will replace '-' by np.nan and fill in the missing values later."
   ]
  },
  {
   "cell_type": "code",
   "execution_count": 201,
   "metadata": {},
   "outputs": [
    {
     "data": {
      "text/plain": [
       "6.0     1541\n",
       "8.0     1167\n",
       "7.0     817 \n",
       "9.0     322 \n",
       "10.0    181 \n",
       "5.0     174 \n",
       "11.0    156 \n",
       "12.0    111 \n",
       "4.0     25  \n",
       "13.0    17  \n",
       "14.0    13  \n",
       "17.0    9   \n",
       "20.0    6   \n",
       "18.0    4   \n",
       "31.0    4   \n",
       "16.0    3   \n",
       "15.0    3   \n",
       "26.0    2   \n",
       "24.0    2   \n",
       "48.0    2   \n",
       "27.0    2   \n",
       "19.0    1   \n",
       "28.0    1   \n",
       "36.0    1   \n",
       "37.0    1   \n",
       "21.0    1   \n",
       "29.0    1   \n",
       "35.0    1   \n",
       "Name: fiscal_power, dtype: int64"
      ]
     },
     "execution_count": 201,
     "metadata": {},
     "output_type": "execute_result"
    }
   ],
   "source": [
    "#remove 'Puissance fiscale'\n",
    "df['fiscal_power'] = df['fiscal_power'].apply(lambda x:x.strip('Puissance fiscale:'))\n",
    "#replace 'Plus de 48 CV' by '48'\n",
    "df['fiscal_power'] = df['fiscal_power'].apply(lambda x:x.replace('de 48 CV','48'))\n",
    "#drop 'CV '\n",
    "df['fiscal_power'] = df['fiscal_power'].apply(lambda x:x.strip(\" CV\"))\n",
    "#convert to integer\n",
    "df['fiscal_power'] = pd.to_numeric(df['fiscal_power'], errors = 'coerce')\n",
    "#print values\n",
    "df['fiscal_power'].value_counts()"
   ]
  },
  {
   "cell_type": "code",
   "execution_count": 203,
   "metadata": {},
   "outputs": [
    {
     "data": {
      "text/plain": [
       "2974"
      ]
     },
     "execution_count": 203,
     "metadata": {},
     "output_type": "execute_result"
    }
   ],
   "source": [
    "#missing value\n",
    "df['fiscal_power'].isnull().sum()"
   ]
  },
  {
   "cell_type": "markdown",
   "metadata": {},
   "source": [
    "### Drop the 'sector' and 'type' columns"
   ]
  },
  {
   "cell_type": "code",
   "execution_count": 204,
   "metadata": {},
   "outputs": [
    {
     "data": {
      "text/html": [
       "<div>\n",
       "<style>\n",
       "    .dataframe thead tr:only-child th {\n",
       "        text-align: right;\n",
       "    }\n",
       "\n",
       "    .dataframe thead th {\n",
       "        text-align: left;\n",
       "    }\n",
       "\n",
       "    .dataframe tbody tr th {\n",
       "        vertical-align: top;\n",
       "    }\n",
       "</style>\n",
       "<table border=\"1\" class=\"dataframe\">\n",
       "  <thead>\n",
       "    <tr style=\"text-align: right;\">\n",
       "      <th></th>\n",
       "      <th>price</th>\n",
       "      <th>year_model</th>\n",
       "      <th>mileage</th>\n",
       "      <th>fuel_type</th>\n",
       "      <th>mark</th>\n",
       "      <th>model</th>\n",
       "      <th>fiscal_power</th>\n",
       "      <th>city</th>\n",
       "    </tr>\n",
       "  </thead>\n",
       "  <tbody>\n",
       "    <tr>\n",
       "      <th>0</th>\n",
       "      <td>13500.0</td>\n",
       "      <td>2007.0</td>\n",
       "      <td>104999.5</td>\n",
       "      <td>Diesel</td>\n",
       "      <td>Volkswagen</td>\n",
       "      <td>GOLF 2</td>\n",
       "      <td>6.0</td>\n",
       "      <td>Oujda</td>\n",
       "    </tr>\n",
       "    <tr>\n",
       "      <th>1</th>\n",
       "      <td>27000.0</td>\n",
       "      <td>2008.0</td>\n",
       "      <td>274999.5</td>\n",
       "      <td>Diesel</td>\n",
       "      <td>Hond</td>\n",
       "      <td>CR-V</td>\n",
       "      <td>8.0</td>\n",
       "      <td>Fès</td>\n",
       "    </tr>\n",
       "    <tr>\n",
       "      <th>2</th>\n",
       "      <td>15930.0</td>\n",
       "      <td>2007.0</td>\n",
       "      <td>274999.5</td>\n",
       "      <td>Diesel</td>\n",
       "      <td>Ssangyong</td>\n",
       "      <td>Rexton</td>\n",
       "      <td>NaN</td>\n",
       "      <td>Marrakech</td>\n",
       "    </tr>\n",
       "    <tr>\n",
       "      <th>3</th>\n",
       "      <td>12690.0</td>\n",
       "      <td>2005.0</td>\n",
       "      <td>224999.5</td>\n",
       "      <td>Diesel</td>\n",
       "      <td>Citroen</td>\n",
       "      <td>Berling</td>\n",
       "      <td>NaN</td>\n",
       "      <td>Casablanca</td>\n",
       "    </tr>\n",
       "    <tr>\n",
       "      <th>4</th>\n",
       "      <td>15390.0</td>\n",
       "      <td>2001.0</td>\n",
       "      <td>27499.5</td>\n",
       "      <td>Diesel</td>\n",
       "      <td>Citroen</td>\n",
       "      <td>C5</td>\n",
       "      <td>6.0</td>\n",
       "      <td>Tétouan</td>\n",
       "    </tr>\n",
       "  </tbody>\n",
       "</table>\n",
       "</div>"
      ],
      "text/plain": [
       "     price  year_model   mileage fuel_type        mark    model  fiscal_power  \\\n",
       "0  13500.0  2007.0      104999.5  Diesel    Volkswagen  GOLF 2   6.0            \n",
       "1  27000.0  2008.0      274999.5  Diesel    Hond        CR-V     8.0            \n",
       "2  15930.0  2007.0      274999.5  Diesel    Ssangyong   Rexton  NaN             \n",
       "3  12690.0  2005.0      224999.5  Diesel    Citroen     Berling NaN             \n",
       "4  15390.0  2001.0      27499.5   Diesel    Citroen     C5       6.0            \n",
       "\n",
       "          city  \n",
       "0   Oujda       \n",
       "1   Fès         \n",
       "2   Marrakech   \n",
       "3   Casablanca  \n",
       "4   Tétouan     "
      ]
     },
     "execution_count": 204,
     "metadata": {},
     "output_type": "execute_result"
    }
   ],
   "source": [
    "df.drop(['sector','type'],axis = 1,inplace = True)\n",
    "df.head()"
   ]
  },
  {
   "cell_type": "markdown",
   "metadata": {},
   "source": [
    "### Save the clean data set"
   ]
  },
  {
   "cell_type": "code",
   "execution_count": 205,
   "metadata": {},
   "outputs": [],
   "source": [
    "df.to_csv('cars.csv',index = False)"
   ]
  },
  {
   "cell_type": "markdown",
   "metadata": {},
   "source": [
    "## Exploratory Data Analysis and Visualization"
   ]
  },
  {
   "cell_type": "code",
   "execution_count": 2,
   "metadata": {},
   "outputs": [
    {
     "name": "stdout",
     "output_type": "stream",
     "text": [
      "The shape of the data is (7542, 8)\n"
     ]
    },
    {
     "data": {
      "text/html": [
       "<div>\n",
       "<style>\n",
       "    .dataframe thead tr:only-child th {\n",
       "        text-align: right;\n",
       "    }\n",
       "\n",
       "    .dataframe thead th {\n",
       "        text-align: left;\n",
       "    }\n",
       "\n",
       "    .dataframe tbody tr th {\n",
       "        vertical-align: top;\n",
       "    }\n",
       "</style>\n",
       "<table border=\"1\" class=\"dataframe\">\n",
       "  <thead>\n",
       "    <tr style=\"text-align: right;\">\n",
       "      <th></th>\n",
       "      <th>price</th>\n",
       "      <th>year_model</th>\n",
       "      <th>mileage</th>\n",
       "      <th>fuel_type</th>\n",
       "      <th>mark</th>\n",
       "      <th>model</th>\n",
       "      <th>fiscal_power</th>\n",
       "      <th>city</th>\n",
       "    </tr>\n",
       "  </thead>\n",
       "  <tbody>\n",
       "    <tr>\n",
       "      <th>0</th>\n",
       "      <td>13500.0</td>\n",
       "      <td>2007.0</td>\n",
       "      <td>104999.5</td>\n",
       "      <td>Diesel</td>\n",
       "      <td>Volkswagen</td>\n",
       "      <td>GOLF 2</td>\n",
       "      <td>6.0</td>\n",
       "      <td>Oujda</td>\n",
       "    </tr>\n",
       "    <tr>\n",
       "      <th>1</th>\n",
       "      <td>27000.0</td>\n",
       "      <td>2008.0</td>\n",
       "      <td>274999.5</td>\n",
       "      <td>Diesel</td>\n",
       "      <td>Hond</td>\n",
       "      <td>CR-V</td>\n",
       "      <td>8.0</td>\n",
       "      <td>Fès</td>\n",
       "    </tr>\n",
       "    <tr>\n",
       "      <th>2</th>\n",
       "      <td>15930.0</td>\n",
       "      <td>2007.0</td>\n",
       "      <td>274999.5</td>\n",
       "      <td>Diesel</td>\n",
       "      <td>Ssangyong</td>\n",
       "      <td>Rexton</td>\n",
       "      <td>NaN</td>\n",
       "      <td>Marrakech</td>\n",
       "    </tr>\n",
       "    <tr>\n",
       "      <th>3</th>\n",
       "      <td>12690.0</td>\n",
       "      <td>2005.0</td>\n",
       "      <td>224999.5</td>\n",
       "      <td>Diesel</td>\n",
       "      <td>Citroen</td>\n",
       "      <td>Berling</td>\n",
       "      <td>NaN</td>\n",
       "      <td>Casablanca</td>\n",
       "    </tr>\n",
       "    <tr>\n",
       "      <th>4</th>\n",
       "      <td>15390.0</td>\n",
       "      <td>2001.0</td>\n",
       "      <td>27499.5</td>\n",
       "      <td>Diesel</td>\n",
       "      <td>Citroen</td>\n",
       "      <td>C5</td>\n",
       "      <td>6.0</td>\n",
       "      <td>Tétouan</td>\n",
       "    </tr>\n",
       "  </tbody>\n",
       "</table>\n",
       "</div>"
      ],
      "text/plain": [
       "     price  year_model   mileage fuel_type        mark    model  fiscal_power  \\\n",
       "0  13500.0      2007.0  104999.5    Diesel  Volkswagen   GOLF 2           6.0   \n",
       "1  27000.0      2008.0  274999.5    Diesel        Hond     CR-V           8.0   \n",
       "2  15930.0      2007.0  274999.5    Diesel   Ssangyong   Rexton           NaN   \n",
       "3  12690.0      2005.0  224999.5    Diesel     Citroen  Berling           NaN   \n",
       "4  15390.0      2001.0   27499.5    Diesel     Citroen       C5           6.0   \n",
       "\n",
       "          city  \n",
       "0        Oujda  \n",
       "1          Fès  \n",
       "2    Marrakech  \n",
       "3   Casablanca  \n",
       "4      Tétouan  "
      ]
     },
     "execution_count": 2,
     "metadata": {},
     "output_type": "execute_result"
    }
   ],
   "source": [
    "df = pd.read_csv('cars.csv', encoding = 'latin-1')\n",
    "print('The shape of the data is {}'.format(df.shape))\n",
    "df.head()"
   ]
  },
  {
   "cell_type": "code",
   "execution_count": 3,
   "metadata": {},
   "outputs": [
    {
     "data": {
      "text/plain": [
       "price              0\n",
       "year_model         0\n",
       "mileage            0\n",
       "fuel_type          0\n",
       "mark               0\n",
       "model              3\n",
       "fiscal_power    2974\n",
       "city               0\n",
       "dtype: int64"
      ]
     },
     "execution_count": 3,
     "metadata": {},
     "output_type": "execute_result"
    }
   ],
   "source": [
    "#missing values\n",
    "df.isnull().sum()"
   ]
  },
  {
   "cell_type": "code",
   "execution_count": 4,
   "metadata": {},
   "outputs": [
    {
     "data": {
      "text/html": [
       "<div>\n",
       "<style>\n",
       "    .dataframe thead tr:only-child th {\n",
       "        text-align: right;\n",
       "    }\n",
       "\n",
       "    .dataframe thead th {\n",
       "        text-align: left;\n",
       "    }\n",
       "\n",
       "    .dataframe tbody tr th {\n",
       "        vertical-align: top;\n",
       "    }\n",
       "</style>\n",
       "<table border=\"1\" class=\"dataframe\">\n",
       "  <thead>\n",
       "    <tr style=\"text-align: right;\">\n",
       "      <th></th>\n",
       "      <th>price</th>\n",
       "      <th>year_model</th>\n",
       "      <th>mileage</th>\n",
       "      <th>fiscal_power</th>\n",
       "    </tr>\n",
       "  </thead>\n",
       "  <tbody>\n",
       "    <tr>\n",
       "      <th>count</th>\n",
       "      <td>7.542000e+03</td>\n",
       "      <td>7542.000000</td>\n",
       "      <td>7542.000000</td>\n",
       "      <td>4568.000000</td>\n",
       "    </tr>\n",
       "    <tr>\n",
       "      <th>mean</th>\n",
       "      <td>2.614625e+04</td>\n",
       "      <td>2006.199814</td>\n",
       "      <td>127394.423230</td>\n",
       "      <td>7.540937</td>\n",
       "    </tr>\n",
       "    <tr>\n",
       "      <th>std</th>\n",
       "      <td>4.724152e+04</td>\n",
       "      <td>8.209124</td>\n",
       "      <td>91528.487476</td>\n",
       "      <td>2.391428</td>\n",
       "    </tr>\n",
       "    <tr>\n",
       "      <th>min</th>\n",
       "      <td>4.050000e+02</td>\n",
       "      <td>1980.000000</td>\n",
       "      <td>2499.500000</td>\n",
       "      <td>4.000000</td>\n",
       "    </tr>\n",
       "    <tr>\n",
       "      <th>25%</th>\n",
       "      <td>1.269000e+04</td>\n",
       "      <td>2002.000000</td>\n",
       "      <td>52499.500000</td>\n",
       "      <td>6.000000</td>\n",
       "    </tr>\n",
       "    <tr>\n",
       "      <th>50%</th>\n",
       "      <td>1.944000e+04</td>\n",
       "      <td>2008.000000</td>\n",
       "      <td>114999.500000</td>\n",
       "      <td>7.000000</td>\n",
       "    </tr>\n",
       "    <tr>\n",
       "      <th>75%</th>\n",
       "      <td>3.024000e+04</td>\n",
       "      <td>2013.000000</td>\n",
       "      <td>184999.500000</td>\n",
       "      <td>8.000000</td>\n",
       "    </tr>\n",
       "    <tr>\n",
       "      <th>max</th>\n",
       "      <td>2.835000e+06</td>\n",
       "      <td>2018.000000</td>\n",
       "      <td>500000.000000</td>\n",
       "      <td>48.000000</td>\n",
       "    </tr>\n",
       "  </tbody>\n",
       "</table>\n",
       "</div>"
      ],
      "text/plain": [
       "              price   year_model        mileage  fiscal_power\n",
       "count  7.542000e+03  7542.000000    7542.000000   4568.000000\n",
       "mean   2.614625e+04  2006.199814  127394.423230      7.540937\n",
       "std    4.724152e+04     8.209124   91528.487476      2.391428\n",
       "min    4.050000e+02  1980.000000    2499.500000      4.000000\n",
       "25%    1.269000e+04  2002.000000   52499.500000      6.000000\n",
       "50%    1.944000e+04  2008.000000  114999.500000      7.000000\n",
       "75%    3.024000e+04  2013.000000  184999.500000      8.000000\n",
       "max    2.835000e+06  2018.000000  500000.000000     48.000000"
      ]
     },
     "execution_count": 4,
     "metadata": {},
     "output_type": "execute_result"
    }
   ],
   "source": [
    "#quick statistics\n",
    "df.describe()"
   ]
  },
  {
   "cell_type": "markdown",
   "metadata": {},
   "source": [
    "### Remove outliers"
   ]
  },
  {
   "cell_type": "code",
   "execution_count": 5,
   "metadata": {},
   "outputs": [],
   "source": [
    "mean = np.mean(df['price'])\n",
    "std = np.std(df['price'])\n",
    "df = df[(df['price']>=mean-3*std)&(df['price']<=mean+3*std)]"
   ]
  },
  {
   "cell_type": "markdown",
   "metadata": {},
   "source": [
    "### Price"
   ]
  },
  {
   "cell_type": "code",
   "execution_count": 6,
   "metadata": {},
   "outputs": [
    {
     "data": {
      "text/plain": [
       "<matplotlib.axes._subplots.AxesSubplot at 0x201d66fb438>"
      ]
     },
     "execution_count": 6,
     "metadata": {},
     "output_type": "execute_result"
    },
    {
     "data": {
      "image/png": "[encoded data removed]",
      "text/plain": [
       "<matplotlib.figure.Figure at 0x201d5e09eb8>"
      ]
     },
     "metadata": {},
     "output_type": "display_data"
    }
   ],
   "source": [
    "#distribution of the price \n",
    "plt.figure(figsize = (10,6))\n",
    "sns.kdeplot(df['price'])"
   ]
  },
  {
   "cell_type": "markdown",
   "metadata": {},
   "source": [
    "### Mileage"
   ]
  },
  {
   "cell_type": "code",
   "execution_count": 7,
   "metadata": {},
   "outputs": [
    {
     "data": {
      "text/plain": [
       "<matplotlib.axes._subplots.AxesSubplot at 0x201d602e278>"
      ]
     },
     "execution_count": 7,
     "metadata": {},
     "output_type": "execute_result"
    },
    {
     "data": {
      "image/png": "[encoded data removed]",
      "text/plain": [
       "<matplotlib.figure.Figure at 0x201d6029da0>"
      ]
     },
     "metadata": {},
     "output_type": "display_data"
    }
   ],
   "source": [
    "plt.figure(figsize = (15,6))\n",
    "sns.regplot(x='mileage', y = 'price', data = df, fit_reg = False)"
   ]
  },
  {
   "cell_type": "markdown",
   "metadata": {},
   "source": [
    "### Fuel Type"
   ]
  },
  {
   "cell_type": "code",
   "execution_count": 8,
   "metadata": {},
   "outputs": [
    {
     "data": {
      "text/plain": [
       "<matplotlib.axes._subplots.AxesSubplot at 0x201d62746d8>"
      ]
     },
     "execution_count": 8,
     "metadata": {},
     "output_type": "execute_result"
    },
    {
     "data": {
      "image/png": "[encoded data removed]",
      "text/plain": [
       "<matplotlib.figure.Figure at 0x201d6257ba8>"
      ]
     },
     "metadata": {},
     "output_type": "display_data"
    }
   ],
   "source": [
    "#box plot of price in terms of fuel type\n",
    "plt.figure(figsize = (5,5))\n",
    "sns.boxplot(x='fuel_type', y='price', data = df)"
   ]
  },
  {
   "cell_type": "markdown",
   "metadata": {},
   "source": [
    "### Year_model"
   ]
  },
  {
   "cell_type": "code",
   "execution_count": 9,
   "metadata": {},
   "outputs": [
    {
     "data": {
      "text/plain": [
       "<matplotlib.axes._subplots.AxesSubplot at 0x201d6087be0>"
      ]
     },
     "execution_count": 9,
     "metadata": {},
     "output_type": "execute_result"
    },
    {
     "data": {
      "image/png": "[encoded data removed]",
      "text/plain": [
       "<matplotlib.figure.Figure at 0x201d61847f0>"
      ]
     },
     "metadata": {},
     "output_type": "display_data"
    }
   ],
   "source": [
    "plt.figure(figsize = (20,5))\n",
    "sns.barplot(x= 'year_model', y= 'price', data =df[df['year_model']>2000])"
   ]
  },
  {
   "cell_type": "markdown",
   "metadata": {},
   "source": [
    "### Mark"
   ]
  },
  {
   "cell_type": "code",
   "execution_count": 10,
   "metadata": {},
   "outputs": [
    {
     "data": {
      "text/plain": [
       "<matplotlib.axes._subplots.AxesSubplot at 0x201d61902b0>"
      ]
     },
     "execution_count": 10,
     "metadata": {},
     "output_type": "execute_result"
    },
    {
     "data": {
      "image/png": "[encoded data removed]",
      "text/plain": [
       "<matplotlib.figure.Figure at 0x201d61d02b0>"
      ]
     },
     "metadata": {},
     "output_type": "display_data"
    }
   ],
   "source": [
    "plt.figure(figsize = (20,20))\n",
    "sns.barplot(x='price', y = 'mark', data = df)"
   ]
  },
  {
   "cell_type": "markdown",
   "metadata": {},
   "source": [
    "### Fiscal power"
   ]
  },
  {
   "cell_type": "code",
   "execution_count": 11,
   "metadata": {},
   "outputs": [
    {
     "data": {
      "text/plain": [
       "<matplotlib.axes._subplots.AxesSubplot at 0x201d66567b8>"
      ]
     },
     "execution_count": 11,
     "metadata": {},
     "output_type": "execute_result"
    },
    {
     "data": {
      "image/png": "[encoded data removed]",
      "text/plain": [
       "<matplotlib.figure.Figure at 0x201d6bd6f28>"
      ]
     },
     "metadata": {},
     "output_type": "display_data"
    }
   ],
   "source": [
    "plt.figure(figsize = (20,20))\n",
    "sns.barplot(x='fiscal_power', y='price', data = df)"
   ]
  },
  {
   "cell_type": "markdown",
   "metadata": {},
   "source": [
    "### Correlation matrix"
   ]
  },
  {
   "cell_type": "code",
   "execution_count": 12,
   "metadata": {},
   "outputs": [
    {
     "data": {
      "text/plain": [
       "price           1.000000\n",
       "year_model      0.509601\n",
       "fiscal_power    0.220533\n",
       "mileage        -0.099845\n",
       "Name: price, dtype: float64"
      ]
     },
     "execution_count": 12,
     "metadata": {},
     "output_type": "execute_result"
    }
   ],
   "source": [
    "corr_matrix = df.corr()\n",
    "corr_matrix['price'].sort_values(ascending = False)"
   ]
  },
  {
   "cell_type": "code",
   "execution_count": 13,
   "metadata": {},
   "outputs": [
    {
     "data": {
      "text/plain": [
       "<matplotlib.axes._subplots.AxesSubplot at 0x201d6c828d0>"
      ]
     },
     "execution_count": 13,
     "metadata": {},
     "output_type": "execute_result"
    },
    {
     "data": {
      "image/png": "[encoded data removed]",
      "text/plain": [
       "<matplotlib.figure.Figure at 0x201d6ca9828>"
      ]
     },
     "metadata": {},
     "output_type": "display_data"
    }
   ],
   "source": [
    "sns.heatmap(corr_matrix, annot = True, cmap = 'viridis')"
   ]
  },
  {
   "cell_type": "markdown",
   "metadata": {},
   "source": [
    "## Data modeling"
   ]
  },
  {
   "cell_type": "code",
   "execution_count": 14,
   "metadata": {},
   "outputs": [],
   "source": [
    "#pick the relevant features\n",
    "X= df[['year_model','mileage','fiscal_power','fuel_type','mark']]\n",
    "y = df['price']"
   ]
  },
  {
   "cell_type": "markdown",
   "metadata": {},
   "source": [
    "### Imputation"
   ]
  },
  {
   "cell_type": "code",
   "execution_count": 15,
   "metadata": {},
   "outputs": [],
   "source": [
    "from sklearn.preprocessing import Imputer"
   ]
  },
  {
   "cell_type": "code",
   "execution_count": 16,
   "metadata": {},
   "outputs": [],
   "source": [
    "imputer = Imputer(strategy = 'mean')"
   ]
  },
  {
   "cell_type": "code",
   "execution_count": 17,
   "metadata": {},
   "outputs": [
    {
     "data": {
      "text/plain": [
       "Imputer(axis=0, copy=True, missing_values='NaN', strategy='mean', verbose=0)"
      ]
     },
     "execution_count": 17,
     "metadata": {},
     "output_type": "execute_result"
    }
   ],
   "source": [
    "imputer.fit(X[['fiscal_power']])"
   ]
  },
  {
   "cell_type": "code",
   "execution_count": 18,
   "metadata": {},
   "outputs": [
    {
     "name": "stderr",
     "output_type": "stream",
     "text": [
      "D:\\DataFile\\Anaconda3\\lib\\site-packages\\pandas\\core\\indexing.py:517: SettingWithCopyWarning: \n",
      "A value is trying to be set on a copy of a slice from a DataFrame.\n",
      "Try using .loc[row_indexer,col_indexer] = value instead\n",
      "\n",
      "See the caveats in the documentation: http://pandas.pydata.org/pandas-docs/stable/indexing.html#indexing-view-versus-copy\n",
      "  self.obj[item] = s\n"
     ]
    }
   ],
   "source": [
    "X.iloc[:,2] = imputer.transform(X[['fiscal_power']])[:,0]"
   ]
  },
  {
   "cell_type": "code",
   "execution_count": 19,
   "metadata": {},
   "outputs": [
    {
     "data": {
      "text/plain": [
       "year_model      0\n",
       "mileage         0\n",
       "fiscal_power    0\n",
       "fuel_type       0\n",
       "mark            0\n",
       "dtype: int64"
      ]
     },
     "execution_count": 19,
     "metadata": {},
     "output_type": "execute_result"
    }
   ],
   "source": [
    "X.isnull().sum()"
   ]
  },
  {
   "cell_type": "markdown",
   "metadata": {},
   "source": [
    "### Feature scaling"
   ]
  },
  {
   "cell_type": "code",
   "execution_count": 20,
   "metadata": {},
   "outputs": [],
   "source": [
    "from sklearn.preprocessing import StandardScaler"
   ]
  },
  {
   "cell_type": "code",
   "execution_count": 21,
   "metadata": {},
   "outputs": [],
   "source": [
    "scaler = StandardScaler()"
   ]
  },
  {
   "cell_type": "code",
   "execution_count": 22,
   "metadata": {},
   "outputs": [
    {
     "data": {
      "text/plain": [
       "StandardScaler(copy=True, with_mean=True, with_std=True)"
      ]
     },
     "execution_count": 22,
     "metadata": {},
     "output_type": "execute_result"
    }
   ],
   "source": [
    "scaler.fit(X[['year_model','mileage','fiscal_power']])"
   ]
  },
  {
   "cell_type": "code",
   "execution_count": 23,
   "metadata": {},
   "outputs": [
    {
     "name": "stderr",
     "output_type": "stream",
     "text": [
      "D:\\DataFile\\Anaconda3\\lib\\site-packages\\ipykernel_launcher.py:1: SettingWithCopyWarning: \n",
      "A value is trying to be set on a copy of a slice from a DataFrame.\n",
      "Try using .loc[row_indexer,col_indexer] = value instead\n",
      "\n",
      "See the caveats in the documentation: http://pandas.pydata.org/pandas-docs/stable/indexing.html#indexing-view-versus-copy\n",
      "  \"\"\"Entry point for launching an IPython kernel.\n",
      "D:\\DataFile\\Anaconda3\\lib\\site-packages\\pandas\\core\\indexing.py:517: SettingWithCopyWarning: \n",
      "A value is trying to be set on a copy of a slice from a DataFrame.\n",
      "Try using .loc[row_indexer,col_indexer] = value instead\n",
      "\n",
      "See the caveats in the documentation: http://pandas.pydata.org/pandas-docs/stable/indexing.html#indexing-view-versus-copy\n",
      "  self.obj[item] = s\n"
     ]
    }
   ],
   "source": [
    "X[['year_model','mileage','fiscal_power']]=scaler.transform(X[['year_model','mileage','fiscal_power']])"
   ]
  },
  {
   "cell_type": "code",
   "execution_count": 24,
   "metadata": {},
   "outputs": [
    {
     "data": {
      "text/html": [
       "<div>\n",
       "<style>\n",
       "    .dataframe thead tr:only-child th {\n",
       "        text-align: right;\n",
       "    }\n",
       "\n",
       "    .dataframe thead th {\n",
       "        text-align: left;\n",
       "    }\n",
       "\n",
       "    .dataframe tbody tr th {\n",
       "        vertical-align: top;\n",
       "    }\n",
       "</style>\n",
       "<table border=\"1\" class=\"dataframe\">\n",
       "  <thead>\n",
       "    <tr style=\"text-align: right;\">\n",
       "      <th></th>\n",
       "      <th>year_model</th>\n",
       "      <th>mileage</th>\n",
       "      <th>fiscal_power</th>\n",
       "      <th>fuel_type</th>\n",
       "      <th>mark</th>\n",
       "    </tr>\n",
       "  </thead>\n",
       "  <tbody>\n",
       "    <tr>\n",
       "      <th>0</th>\n",
       "      <td>0.101052</td>\n",
       "      <td>-0.246533</td>\n",
       "      <td>-8.353218e-01</td>\n",
       "      <td>Diesel</td>\n",
       "      <td>Volkswagen</td>\n",
       "    </tr>\n",
       "    <tr>\n",
       "      <th>1</th>\n",
       "      <td>0.222908</td>\n",
       "      <td>1.611046</td>\n",
       "      <td>2.607516e-01</td>\n",
       "      <td>Diesel</td>\n",
       "      <td>Hond</td>\n",
       "    </tr>\n",
       "    <tr>\n",
       "      <th>2</th>\n",
       "      <td>0.101052</td>\n",
       "      <td>1.611046</td>\n",
       "      <td>-4.867544e-16</td>\n",
       "      <td>Diesel</td>\n",
       "      <td>Ssangyong</td>\n",
       "    </tr>\n",
       "    <tr>\n",
       "      <th>3</th>\n",
       "      <td>-0.142661</td>\n",
       "      <td>1.064699</td>\n",
       "      <td>-4.867544e-16</td>\n",
       "      <td>Diesel</td>\n",
       "      <td>Citroen</td>\n",
       "    </tr>\n",
       "    <tr>\n",
       "      <th>4</th>\n",
       "      <td>-0.630087</td>\n",
       "      <td>-1.093371</td>\n",
       "      <td>-8.353218e-01</td>\n",
       "      <td>Diesel</td>\n",
       "      <td>Citroen</td>\n",
       "    </tr>\n",
       "  </tbody>\n",
       "</table>\n",
       "</div>"
      ],
      "text/plain": [
       "   year_model   mileage  fiscal_power fuel_type        mark\n",
       "0    0.101052 -0.246533 -8.353218e-01    Diesel  Volkswagen\n",
       "1    0.222908  1.611046  2.607516e-01    Diesel        Hond\n",
       "2    0.101052  1.611046 -4.867544e-16    Diesel   Ssangyong\n",
       "3   -0.142661  1.064699 -4.867544e-16    Diesel     Citroen\n",
       "4   -0.630087 -1.093371 -8.353218e-01    Diesel     Citroen"
      ]
     },
     "execution_count": 24,
     "metadata": {},
     "output_type": "execute_result"
    }
   ],
   "source": [
    "X.head()"
   ]
  },
  {
   "cell_type": "markdown",
   "metadata": {},
   "source": [
    "### One hot encode the categorical variables"
   ]
  },
  {
   "cell_type": "code",
   "execution_count": 25,
   "metadata": {},
   "outputs": [
    {
     "name": "stdout",
     "output_type": "stream",
     "text": [
      "The shape of the data is (7503, 62)\n"
     ]
    },
    {
     "data": {
      "text/html": [
       "<div>\n",
       "<style>\n",
       "    .dataframe thead tr:only-child th {\n",
       "        text-align: right;\n",
       "    }\n",
       "\n",
       "    .dataframe thead th {\n",
       "        text-align: left;\n",
       "    }\n",
       "\n",
       "    .dataframe tbody tr th {\n",
       "        vertical-align: top;\n",
       "    }\n",
       "</style>\n",
       "<table border=\"1\" class=\"dataframe\">\n",
       "  <thead>\n",
       "    <tr style=\"text-align: right;\">\n",
       "      <th></th>\n",
       "      <th>year_model</th>\n",
       "      <th>mileage</th>\n",
       "      <th>fiscal_power</th>\n",
       "      <th>fuel_type_Diesel</th>\n",
       "      <th>fuel_type_Electriq</th>\n",
       "      <th>fuel_type_Ess</th>\n",
       "      <th>mark_Ac</th>\n",
       "      <th>mark_Alfa Romeo</th>\n",
       "      <th>mark_Audi</th>\n",
       "      <th>mark_Autres</th>\n",
       "      <th>...</th>\n",
       "      <th>mark_Volvo</th>\n",
       "      <th>mark_Zoty</th>\n",
       "      <th>mark_cedes-Benz</th>\n",
       "      <th>mark_hind</th>\n",
       "      <th>mark_itsubishi</th>\n",
       "      <th>mark_lanci</th>\n",
       "      <th>mark_mini</th>\n",
       "      <th>mark_serati</th>\n",
       "      <th>mark_sey Ferguson</th>\n",
       "      <th>mark_zd</th>\n",
       "    </tr>\n",
       "  </thead>\n",
       "  <tbody>\n",
       "    <tr>\n",
       "      <th>0</th>\n",
       "      <td>0.101052</td>\n",
       "      <td>-0.246533</td>\n",
       "      <td>-8.353218e-01</td>\n",
       "      <td>1</td>\n",
       "      <td>0</td>\n",
       "      <td>0</td>\n",
       "      <td>0</td>\n",
       "      <td>0</td>\n",
       "      <td>0</td>\n",
       "      <td>0</td>\n",
       "      <td>...</td>\n",
       "      <td>0</td>\n",
       "      <td>0</td>\n",
       "      <td>0</td>\n",
       "      <td>0</td>\n",
       "      <td>0</td>\n",
       "      <td>0</td>\n",
       "      <td>0</td>\n",
       "      <td>0</td>\n",
       "      <td>0</td>\n",
       "      <td>0</td>\n",
       "    </tr>\n",
       "    <tr>\n",
       "      <th>1</th>\n",
       "      <td>0.222908</td>\n",
       "      <td>1.611046</td>\n",
       "      <td>2.607516e-01</td>\n",
       "      <td>1</td>\n",
       "      <td>0</td>\n",
       "      <td>0</td>\n",
       "      <td>0</td>\n",
       "      <td>0</td>\n",
       "      <td>0</td>\n",
       "      <td>0</td>\n",
       "      <td>...</td>\n",
       "      <td>0</td>\n",
       "      <td>0</td>\n",
       "      <td>0</td>\n",
       "      <td>0</td>\n",
       "      <td>0</td>\n",
       "      <td>0</td>\n",
       "      <td>0</td>\n",
       "      <td>0</td>\n",
       "      <td>0</td>\n",
       "      <td>0</td>\n",
       "    </tr>\n",
       "    <tr>\n",
       "      <th>2</th>\n",
       "      <td>0.101052</td>\n",
       "      <td>1.611046</td>\n",
       "      <td>-4.867544e-16</td>\n",
       "      <td>1</td>\n",
       "      <td>0</td>\n",
       "      <td>0</td>\n",
       "      <td>0</td>\n",
       "      <td>0</td>\n",
       "      <td>0</td>\n",
       "      <td>0</td>\n",
       "      <td>...</td>\n",
       "      <td>0</td>\n",
       "      <td>0</td>\n",
       "      <td>0</td>\n",
       "      <td>0</td>\n",
       "      <td>0</td>\n",
       "      <td>0</td>\n",
       "      <td>0</td>\n",
       "      <td>0</td>\n",
       "      <td>0</td>\n",
       "      <td>0</td>\n",
       "    </tr>\n",
       "    <tr>\n",
       "      <th>3</th>\n",
       "      <td>-0.142661</td>\n",
       "      <td>1.064699</td>\n",
       "      <td>-4.867544e-16</td>\n",
       "      <td>1</td>\n",
       "      <td>0</td>\n",
       "      <td>0</td>\n",
       "      <td>0</td>\n",
       "      <td>0</td>\n",
       "      <td>0</td>\n",
       "      <td>0</td>\n",
       "      <td>...</td>\n",
       "      <td>0</td>\n",
       "      <td>0</td>\n",
       "      <td>0</td>\n",
       "      <td>0</td>\n",
       "      <td>0</td>\n",
       "      <td>0</td>\n",
       "      <td>0</td>\n",
       "      <td>0</td>\n",
       "      <td>0</td>\n",
       "      <td>0</td>\n",
       "    </tr>\n",
       "    <tr>\n",
       "      <th>4</th>\n",
       "      <td>-0.630087</td>\n",
       "      <td>-1.093371</td>\n",
       "      <td>-8.353218e-01</td>\n",
       "      <td>1</td>\n",
       "      <td>0</td>\n",
       "      <td>0</td>\n",
       "      <td>0</td>\n",
       "      <td>0</td>\n",
       "      <td>0</td>\n",
       "      <td>0</td>\n",
       "      <td>...</td>\n",
       "      <td>0</td>\n",
       "      <td>0</td>\n",
       "      <td>0</td>\n",
       "      <td>0</td>\n",
       "      <td>0</td>\n",
       "      <td>0</td>\n",
       "      <td>0</td>\n",
       "      <td>0</td>\n",
       "      <td>0</td>\n",
       "      <td>0</td>\n",
       "    </tr>\n",
       "  </tbody>\n",
       "</table>\n",
       "<p>5 rows × 62 columns</p>\n",
       "</div>"
      ],
      "text/plain": [
       "   year_model   mileage  fiscal_power  fuel_type_Diesel  fuel_type_Electriq  \\\n",
       "0    0.101052 -0.246533 -8.353218e-01                 1                   0   \n",
       "1    0.222908  1.611046  2.607516e-01                 1                   0   \n",
       "2    0.101052  1.611046 -4.867544e-16                 1                   0   \n",
       "3   -0.142661  1.064699 -4.867544e-16                 1                   0   \n",
       "4   -0.630087 -1.093371 -8.353218e-01                 1                   0   \n",
       "\n",
       "   fuel_type_Ess  mark_Ac  mark_Alfa Romeo  mark_Audi  mark_Autres   ...     \\\n",
       "0              0        0                0          0            0   ...      \n",
       "1              0        0                0          0            0   ...      \n",
       "2              0        0                0          0            0   ...      \n",
       "3              0        0                0          0            0   ...      \n",
       "4              0        0                0          0            0   ...      \n",
       "\n",
       "   mark_Volvo  mark_Zoty  mark_cedes-Benz  mark_hind  mark_itsubishi  \\\n",
       "0           0          0                0          0               0   \n",
       "1           0          0                0          0               0   \n",
       "2           0          0                0          0               0   \n",
       "3           0          0                0          0               0   \n",
       "4           0          0                0          0               0   \n",
       "\n",
       "   mark_lanci  mark_mini  mark_serati  mark_sey Ferguson  mark_zd  \n",
       "0           0          0            0                  0        0  \n",
       "1           0          0            0                  0        0  \n",
       "2           0          0            0                  0        0  \n",
       "3           0          0            0                  0        0  \n",
       "4           0          0            0                  0        0  \n",
       "\n",
       "[5 rows x 62 columns]"
      ]
     },
     "execution_count": 25,
     "metadata": {},
     "output_type": "execute_result"
    }
   ],
   "source": [
    "X = pd.get_dummies(X)\n",
    "print('The shape of the data is {}'.format(X.shape))\n",
    "X.head()"
   ]
  },
  {
   "cell_type": "markdown",
   "metadata": {},
   "source": [
    "### Train test split"
   ]
  },
  {
   "cell_type": "code",
   "execution_count": 26,
   "metadata": {},
   "outputs": [],
   "source": [
    "from sklearn.model_selection import train_test_split"
   ]
  },
  {
   "cell_type": "code",
   "execution_count": 27,
   "metadata": {},
   "outputs": [
    {
     "name": "stdout",
     "output_type": "stream",
     "text": [
      "The training set size is (6002, 62)\n",
      "The testing set size is (1501, 62)\n"
     ]
    }
   ],
   "source": [
    "X_train, X_test, y_train, y_test = train_test_split(X, y, test_size = 0.2, random_state = 42)\n",
    "print('The training set size is {}'.format(X_train.shape))\n",
    "print('The testing set size is {}'.format(X_test.shape))"
   ]
  },
  {
   "cell_type": "markdown",
   "metadata": {},
   "source": [
    "### Elastic net"
   ]
  },
  {
   "cell_type": "code",
   "execution_count": 28,
   "metadata": {},
   "outputs": [],
   "source": [
    "from sklearn.linear_model import ElasticNet\n",
    "from sklearn.model_selection import cross_val_score"
   ]
  },
  {
   "cell_type": "code",
   "execution_count": 29,
   "metadata": {},
   "outputs": [
    {
     "name": "stdout",
     "output_type": "stream",
     "text": [
      "The mean rmse is 15610.890846542683 with standard deviation 904.3142469912567\n"
     ]
    }
   ],
   "source": [
    "en = ElasticNet()\n",
    "scores = cross_val_score(en, X, y, scoring = \"neg_mean_squared_error\", cv = 5)\n",
    "rmse_scores = np.sqrt(-scores)\n",
    "print('The mean rmse is {} with standard deviation {}'.format(np.mean(rmse_scores),np.std(rmse_scores)))"
   ]
  },
  {
   "cell_type": "markdown",
   "metadata": {},
   "source": [
    "### Random forest regressor"
   ]
  },
  {
   "cell_type": "code",
   "execution_count": 30,
   "metadata": {},
   "outputs": [],
   "source": [
    "from sklearn.ensemble import RandomForestRegressor"
   ]
  },
  {
   "cell_type": "code",
   "execution_count": 31,
   "metadata": {},
   "outputs": [
    {
     "name": "stdout",
     "output_type": "stream",
     "text": [
      "The mean rmse of rdf is 12876.10682369192 with standard deviation 400.1337603464579\n"
     ]
    }
   ],
   "source": [
    "rdf = RandomForestRegressor()\n",
    "scores = cross_val_score(rdf, X, y, scoring = 'neg_mean_squared_error', cv = 5)\n",
    "rdf_score = np.sqrt(-scores)\n",
    "print('The mean rmse of rdf is {} with standard deviation {}'.format(np.mean(rdf_score),np.std(rdf_score)))"
   ]
  },
  {
   "cell_type": "markdown",
   "metadata": {},
   "source": [
    "### Gradient boosting "
   ]
  },
  {
   "cell_type": "code",
   "execution_count": 32,
   "metadata": {},
   "outputs": [
    {
     "name": "stdout",
     "output_type": "stream",
     "text": [
      "The mean rmse of gbr is 11600.40971045843 with standard deviation 380.25658994681504\n"
     ]
    }
   ],
   "source": [
    "from sklearn.ensemble import GradientBoostingRegressor\n",
    "\n",
    "gbr = GradientBoostingRegressor()\n",
    "scores = cross_val_score(gbr, X, y, scoring = 'neg_mean_squared_error', cv = 5)\n",
    "gbr_score = np.sqrt(-scores)\n",
    "print('The mean rmse of gbr is {} with standard deviation {}'.format(np.mean(gbr_score),np.std(gbr_score)))"
   ]
  },
  {
   "cell_type": "code",
   "execution_count": 43,
   "metadata": {},
   "outputs": [
    {
     "name": "stdout",
     "output_type": "stream",
     "text": [
      "GradientBoostingRegressor(alpha=0.9, criterion='friedman_mse', init=None,\n",
      "             learning_rate=0.1, loss='ls', max_depth=3, max_features=None,\n",
      "             max_leaf_nodes=None, min_impurity_decrease=0.0,\n",
      "             min_impurity_split=None, min_samples_leaf=1,\n",
      "             min_samples_split=2, min_weight_fraction_leaf=0.0,\n",
      "             n_estimators=100, presort='auto', random_state=None,\n",
      "             subsample=1.0, verbose=0, warm_start=False)\n"
     ]
    }
   ],
   "source": [
    "gbr = GradientBoostingRegressor()\n",
    "gbr.fit(X_train, y_train)\n",
    "print(gbr)"
   ]
  },
  {
   "cell_type": "code",
   "execution_count": 44,
   "metadata": {},
   "outputs": [
    {
     "data": {
      "text/plain": [
       "11832.398463609816"
      ]
     },
     "execution_count": 44,
     "metadata": {},
     "output_type": "execute_result"
    }
   ],
   "source": [
    "from sklearn.metrics import mean_squared_error\n",
    "predictions = gbr.predict(X_test)\n",
    "mse = mean_squared_error(y_test, predictions)\n",
    "rmse = np.sqrt(mse)\n",
    "rmse"
   ]
  },
  {
   "cell_type": "markdown",
   "metadata": {},
   "source": [
    "## Predict an observation provided by a user"
   ]
  },
  {
   "cell_type": "code",
   "execution_count": 51,
   "metadata": {},
   "outputs": [],
   "source": [
    "#user_input = [2012, 124999.5,6, 'Diesel','BMW']\n",
    "user_input = {'year_model':2012, 'mileage':124999.5, 'fiscal_power':6, 'fuel_type':'Diesel', 'mark':'BMW'}\n",
    "year_mean = np.mean(df['year_model'])\n",
    "year_std = np.std(df['year_model'])\n",
    "mileage_mean = np.mean(df['mileage'])\n",
    "mileage_std = np.std(df['mileage'])\n",
    "fiscal_mean = np.mean(df['fiscal_power'])\n",
    "fiscal_std = np.std(df['fiscal_power'])"
   ]
  },
  {
   "cell_type": "code",
   "execution_count": 55,
   "metadata": {},
   "outputs": [],
   "source": [
    "def input_to_one_hot(data):\n",
    "    #initialize the target vector with zero values\n",
    "    enc_input = np.zeros(62)\n",
    "    enc_input[0] = (data['year_model']-year_mean)/year_std\n",
    "    enc_input[1] = (data['mileage']-mileage_mean)/mileage_std\n",
    "    enc_input[2] = (data['fiscal_power']-fiscal_mean)/fiscal_std\n",
    "    #convert the mark to match the column name\n",
    "    mark_col = 'mark_'+data['mark']\n",
    "    #find the index of mark_col \n",
    "    mark_ind = X.columns.tolist().index(mark_col)\n",
    "    #set the corresponding entry to be 1\n",
    "    enc_input[mark_ind] = 1\n",
    "    #convert the fuel type to match the column name\n",
    "    fuel_col = 'fuel_type_'+data['fuel_type']\n",
    "    #find the index of fuel_col\n",
    "    fuel_ind = X.columns.tolist().index(fuel_col)\n",
    "    #set the corresponding entry to be 1\n",
    "    enc_input[fuel_ind] = 1\n",
    "    return enc_input"
   ]
  },
  {
   "cell_type": "code",
   "execution_count": 56,
   "metadata": {},
   "outputs": [
    {
     "data": {
      "text/plain": [
       "array([ 0.71033426, -0.02799456, -0.65006306,  1.        ,  0.        ,\n",
       "        0.        ,  0.        ,  0.        ,  0.        ,  0.        ,\n",
       "        1.        ,  0.        ,  0.        ,  0.        ,  0.        ,\n",
       "        0.        ,  0.        ,  0.        ,  0.        ,  0.        ,\n",
       "        0.        ,  0.        ,  0.        ,  0.        ,  0.        ,\n",
       "        0.        ,  0.        ,  0.        ,  0.        ,  0.        ,\n",
       "        0.        ,  0.        ,  0.        ,  0.        ,  0.        ,\n",
       "        0.        ,  0.        ,  0.        ,  0.        ,  0.        ,\n",
       "        0.        ,  0.        ,  0.        ,  0.        ,  0.        ,\n",
       "        0.        ,  0.        ,  0.        ,  0.        ,  0.        ,\n",
       "        0.        ,  0.        ,  0.        ,  0.        ,  0.        ,\n",
       "        0.        ,  0.        ,  0.        ,  0.        ,  0.        ,\n",
       "        0.        ,  0.        ])"
      ]
     },
     "execution_count": 56,
     "metadata": {},
     "output_type": "execute_result"
    }
   ],
   "source": [
    "input_to_one_hot(user_input)"
   ]
  },
  {
   "cell_type": "code",
   "execution_count": 57,
   "metadata": {},
   "outputs": [],
   "source": [
    "a = input_to_one_hot(user_input)"
   ]
  },
  {
   "cell_type": "code",
   "execution_count": 64,
   "metadata": {},
   "outputs": [
    {
     "name": "stdout",
     "output_type": "stream",
     "text": [
      "The price of the car is 44334.74\n"
     ]
    }
   ],
   "source": [
    "print('The price of the car is {}'.format(round(gbr.predict([a])[0],2)))"
   ]
  },
  {
   "cell_type": "markdown",
   "metadata": {},
   "source": [
    "### Save the model"
   ]
  },
  {
   "cell_type": "code",
   "execution_count": 65,
   "metadata": {},
   "outputs": [
    {
     "data": {
      "text/plain": [
       "['model.pkl']"
      ]
     },
     "execution_count": 65,
     "metadata": {},
     "output_type": "execute_result"
    }
   ],
   "source": [
    "from sklearn.externals import joblib\n",
    "\n",
    "joblib.dump(gbr,'model.pkl')"
   ]
  },
  {
   "cell_type": "markdown",
   "metadata": {},
   "source": [
    "## Model deployment"
   ]
  },
  {
   "cell_type": "markdown",
   "metadata": {},
   "source": [
    "We will deploy the model using the Heroku platform. One can check out the app in action in [car-price-prediction](http://car-price-prediction-demo-2.herokuapp.com/). All the codes are available on [Github](https://github.com/huanvo88/Projects/tree/master/car_price)."
   ]
  }
 ],
 "metadata": {
  "kernelspec": {
   "display_name": "Python 3",
   "language": "python",
   "name": "python3"
  },
  "language_info": {
   "codemirror_mode": {
    "name": "ipython",
    "version": 3
   },
   "file_extension": ".py",
   "mimetype": "text/x-python",
   "name": "python",
   "nbconvert_exporter": "python",
   "pygments_lexer": "ipython3",
   "version": "3.6.3"
  }
 },
 "nbformat": 4,
 "nbformat_minor": 2
}
